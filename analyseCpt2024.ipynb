{
  "nbformat": 4,
  "nbformat_minor": 0,
  "metadata": {
    "colab": {
      "provenance": [],
      "authorship_tag": "ABX9TyNdpSX7Iax+njCpVmjlevA8",
      "include_colab_link": true
    },
    "kernelspec": {
      "name": "python3",
      "display_name": "Python 3"
    },
    "language_info": {
      "name": "python"
    }
  },
  "cells": [
    {
      "cell_type": "markdown",
      "metadata": {
        "id": "view-in-github",
        "colab_type": "text"
      },
      "source": [
        "<a href=\"https://colab.research.google.com/github/ahmederrami/pandas_exercises/blob/master/analyseCpt2024.ipynb\" target=\"_parent\"><img src=\"https://colab.research.google.com/assets/colab-badge.svg\" alt=\"Open In Colab\"/></a>"
      ]
    },
    {
      "cell_type": "code",
      "execution_count": 54,
      "metadata": {
        "colab": {
          "base_uri": "https://localhost:8080/"
        },
        "id": "uxNwfNl5vWIV",
        "outputId": "95b36d42-d794-44e0-c4cc-ae79088bda7c"
      },
      "outputs": [
        {
          "output_type": "stream",
          "name": "stdout",
          "text": [
            "Drive already mounted at /content/drive; to attempt to forcibly remount, call drive.mount(\"/content/drive\", force_remount=True).\n"
          ]
        }
      ],
      "source": [
        "from google.colab import drive\n",
        "import os\n",
        "\n",
        "# Mount Google Drive\n",
        "drive.mount('/content/drive')\n",
        "\n",
        "# Specify the Google Drive folder path\n",
        "folder_path = '/content/drive/MyDrive/Colab/'"
      ]
    },
    {
      "cell_type": "code",
      "source": [
        "import numpy as np\n",
        "import pandas as pd"
      ],
      "metadata": {
        "id": "rxDXx3LkwPhZ"
      },
      "execution_count": 55,
      "outputs": []
    },
    {
      "cell_type": "code",
      "source": [
        "columns=['journal','date','cpt','libelle_cpt','piece','convention','facture','base_echeance','tva','tiers','libellé_tiers','libelle_fac','sens','mnt','db','cd','lettrage']"
      ],
      "metadata": {
        "id": "PQ1iFb2X2bIo"
      },
      "execution_count": 56,
      "outputs": []
    },
    {
      "cell_type": "code",
      "source": [
        "df=pd.read_csv('/'.join([folder_path,'cpt2024_20250307.txt']), sep=\";\", header=None,encoding='latin1', engine='python')"
      ],
      "metadata": {
        "id": "JHu2DzIQ8Uyd"
      },
      "execution_count": 57,
      "outputs": []
    },
    {
      "cell_type": "code",
      "source": [
        "df.columns=columns"
      ],
      "metadata": {
        "id": "RNAx9au4HhwC"
      },
      "execution_count": 58,
      "outputs": []
    },
    {
      "cell_type": "code",
      "source": [
        "df.cpt=df.cpt.astype(str)"
      ],
      "metadata": {
        "id": "OfgQ-n1XItvT"
      },
      "execution_count": 59,
      "outputs": []
    },
    {
      "cell_type": "markdown",
      "source": [
        "**Produits d'exploitation**"
      ],
      "metadata": {
        "id": "KJWFkugk3O-A"
      }
    },
    {
      "cell_type": "markdown",
      "source": [],
      "metadata": {
        "id": "qLLmlRm03LnY"
      }
    },
    {
      "cell_type": "code",
      "source": [
        "pe=df[df.cpt.str.startswith(('71'))]['mnt'].sum()\n",
        "pe"
      ],
      "metadata": {
        "id": "YZ0i7AvygqJq",
        "colab": {
          "base_uri": "https://localhost:8080/"
        },
        "outputId": "ac9c04e8-745e-4428-a3e7-5db004dcd3ee"
      },
      "execution_count": 60,
      "outputs": [
        {
          "output_type": "execute_result",
          "data": {
            "text/plain": [
              "-144069561.10000002"
            ]
          },
          "metadata": {},
          "execution_count": 60
        }
      ]
    },
    {
      "cell_type": "markdown",
      "source": [
        "**Charges d'exploitation**"
      ],
      "metadata": {
        "id": "o_V12YBi3cZm"
      }
    },
    {
      "cell_type": "code",
      "source": [
        "ce=df[(df.cpt.str.startswith('61'))]['mnt'].sum()\n",
        "ce"
      ],
      "metadata": {
        "colab": {
          "base_uri": "https://localhost:8080/"
        },
        "id": "HkQwE2ziUFpZ",
        "outputId": "1b1f226a-6a20-4fa7-cc34-4d4ddba87c73"
      },
      "execution_count": 61,
      "outputs": [
        {
          "output_type": "execute_result",
          "data": {
            "text/plain": [
              "138591223.78"
            ]
          },
          "metadata": {},
          "execution_count": 61
        }
      ]
    },
    {
      "cell_type": "markdown",
      "source": [
        "**Resultat d'exploitation**"
      ],
      "metadata": {
        "id": "lgT9Ek59YPwr"
      }
    },
    {
      "cell_type": "code",
      "source": [
        "re=-pe-ce\n",
        "re"
      ],
      "metadata": {
        "colab": {
          "base_uri": "https://localhost:8080/"
        },
        "id": "5tBKHJngYOkC",
        "outputId": "f69e0fa8-a6e8-4f77-b188-df40295c5bef"
      },
      "execution_count": 62,
      "outputs": [
        {
          "output_type": "execute_result",
          "data": {
            "text/plain": [
              "5478337.320000023"
            ]
          },
          "metadata": {},
          "execution_count": 62
        }
      ]
    },
    {
      "cell_type": "markdown",
      "source": [
        "**Produits financiers**"
      ],
      "metadata": {
        "id": "o-_xydcq3m-f"
      }
    },
    {
      "cell_type": "code",
      "source": [
        "pf=df[(df.cpt.str.startswith('73'))]['mnt'].sum()\n",
        "pf"
      ],
      "metadata": {
        "colab": {
          "base_uri": "https://localhost:8080/"
        },
        "id": "fh-zk72fXLYg",
        "outputId": "c672d733-e0a2-4e93-e20b-00e2d8b734fc"
      },
      "execution_count": 63,
      "outputs": [
        {
          "output_type": "execute_result",
          "data": {
            "text/plain": [
              "-1212193.2399999998"
            ]
          },
          "metadata": {},
          "execution_count": 63
        }
      ]
    },
    {
      "cell_type": "markdown",
      "source": [
        "**Charges financières**"
      ],
      "metadata": {
        "id": "F4492iXv341I"
      }
    },
    {
      "cell_type": "code",
      "source": [
        "cf=df[(df.cpt.str.startswith('63'))]['mnt'].sum()\n",
        "cf"
      ],
      "metadata": {
        "colab": {
          "base_uri": "https://localhost:8080/"
        },
        "id": "DbQ68fBrgwfQ",
        "outputId": "668ee018-4f26-4534-9ef9-eee0f432a90f"
      },
      "execution_count": 64,
      "outputs": [
        {
          "output_type": "execute_result",
          "data": {
            "text/plain": [
              "677.82"
            ]
          },
          "metadata": {},
          "execution_count": 64
        }
      ]
    },
    {
      "cell_type": "markdown",
      "source": [
        "**Résultat financier**"
      ],
      "metadata": {
        "id": "n7TQ74QJYjEp"
      }
    },
    {
      "cell_type": "code",
      "source": [
        "rf=-pf-cf\n",
        "rf"
      ],
      "metadata": {
        "colab": {
          "base_uri": "https://localhost:8080/"
        },
        "id": "fXiOwMUyYoQi",
        "outputId": "0cff97c5-4065-4d45-f789-75dd56f829e4"
      },
      "execution_count": 65,
      "outputs": [
        {
          "output_type": "execute_result",
          "data": {
            "text/plain": [
              "1211515.4199999997"
            ]
          },
          "metadata": {},
          "execution_count": 65
        }
      ]
    },
    {
      "cell_type": "markdown",
      "source": [
        "**Résultat courant**"
      ],
      "metadata": {
        "id": "ZbLrcdLLYyO7"
      }
    },
    {
      "cell_type": "code",
      "source": [
        "rc=re+rf\n",
        "rc"
      ],
      "metadata": {
        "colab": {
          "base_uri": "https://localhost:8080/"
        },
        "id": "6h78JllFY3Db",
        "outputId": "43a5717f-0f7c-478a-da95-6a0bc81a636d"
      },
      "execution_count": 66,
      "outputs": [
        {
          "output_type": "execute_result",
          "data": {
            "text/plain": [
              "6689852.740000023"
            ]
          },
          "metadata": {},
          "execution_count": 66
        }
      ]
    },
    {
      "cell_type": "markdown",
      "source": [
        "**Produits non courants**"
      ],
      "metadata": {
        "id": "PsYJ6nrU4GAY"
      }
    },
    {
      "cell_type": "code",
      "source": [
        "pnc=df[(df.cpt.str.startswith('75'))]['mnt'].sum()\n",
        "pnc"
      ],
      "metadata": {
        "colab": {
          "base_uri": "https://localhost:8080/"
        },
        "id": "UWiHPq0pipBi",
        "outputId": "b9b679b2-fdd6-4b23-9968-e562f374bb62"
      },
      "execution_count": 67,
      "outputs": [
        {
          "output_type": "execute_result",
          "data": {
            "text/plain": [
              "-1141621.6099999999"
            ]
          },
          "metadata": {},
          "execution_count": 67
        }
      ]
    },
    {
      "cell_type": "markdown",
      "source": [
        "**Charges non courantes**"
      ],
      "metadata": {
        "id": "3of_Jrbr4XfX"
      }
    },
    {
      "cell_type": "code",
      "source": [
        "cnc=df[(df.cpt.str.startswith('65'))]['mnt'].sum()\n",
        "cnc"
      ],
      "metadata": {
        "colab": {
          "base_uri": "https://localhost:8080/"
        },
        "id": "uRVI2x2UiyjU",
        "outputId": "f39be50d-d49a-4529-c962-b6746b0f02c3"
      },
      "execution_count": 68,
      "outputs": [
        {
          "output_type": "execute_result",
          "data": {
            "text/plain": [
              "894905.01"
            ]
          },
          "metadata": {},
          "execution_count": 68
        }
      ]
    },
    {
      "cell_type": "markdown",
      "source": [
        "**Résultat avant impôt**"
      ],
      "metadata": {
        "id": "1gojmkLG5BZI"
      }
    },
    {
      "cell_type": "code",
      "source": [
        "rai=-pe-ce-pf-cf-pnc-cnc\n",
        "rai"
      ],
      "metadata": {
        "colab": {
          "base_uri": "https://localhost:8080/"
        },
        "id": "PhsYb4KzlUl1",
        "outputId": "a1f5e03d-67b0-457a-e8da-51ee4e044c5a"
      },
      "execution_count": 69,
      "outputs": [
        {
          "output_type": "execute_result",
          "data": {
            "text/plain": [
              "6936569.340000022"
            ]
          },
          "metadata": {},
          "execution_count": 69
        }
      ]
    },
    {
      "cell_type": "markdown",
      "source": [
        "**Réintegrations**"
      ],
      "metadata": {
        "id": "3hTuCL5k7jwf"
      }
    },
    {
      "cell_type": "code",
      "source": [
        "r1=df[df.cpt.str.startswith('658')]['mnt'].sum()\n",
        "r1"
      ],
      "metadata": {
        "colab": {
          "base_uri": "https://localhost:8080/"
        },
        "id": "Q7q8E5s_5Uj8",
        "outputId": "571205dc-2e4c-4833-ab57-a53b938af7e3"
      },
      "execution_count": 70,
      "outputs": [
        {
          "output_type": "execute_result",
          "data": {
            "text/plain": [
              "394905.00999999995"
            ]
          },
          "metadata": {},
          "execution_count": 70
        }
      ]
    },
    {
      "cell_type": "code",
      "source": [
        "185551.29+201161+8192.72"
      ],
      "metadata": {
        "colab": {
          "base_uri": "https://localhost:8080/"
        },
        "id": "ekgoTeJLD3tC",
        "outputId": "c42d23c8-ef83-439c-f9c8-cee78d6f8183"
      },
      "execution_count": 71,
      "outputs": [
        {
          "output_type": "execute_result",
          "data": {
            "text/plain": [
              "394905.01"
            ]
          },
          "metadata": {},
          "execution_count": 71
        }
      ]
    },
    {
      "cell_type": "code",
      "source": [
        "r2=df[df.cpt.str.startswith('61321')]['mnt'].sum()-60000*3\n",
        "r2"
      ],
      "metadata": {
        "colab": {
          "base_uri": "https://localhost:8080/"
        },
        "id": "VC64Ypez8ODM",
        "outputId": "dafb0fdf-8c31-4f25-e6bd-f70285dc9824"
      },
      "execution_count": 72,
      "outputs": [
        {
          "output_type": "execute_result",
          "data": {
            "text/plain": [
              "77598.41999999998"
            ]
          },
          "metadata": {},
          "execution_count": 72
        }
      ]
    },
    {
      "cell_type": "code",
      "source": [
        "reprise = df[df.cpt.str.startswith('71964')]['mnt'].sum() # intérieur\n",
        "reprise"
      ],
      "metadata": {
        "colab": {
          "base_uri": "https://localhost:8080/"
        },
        "id": "iLLFH-I09Xxp",
        "outputId": "96fc18fc-7bad-4ac4-afe5-5c22465a4e0a"
      },
      "execution_count": 73,
      "outputs": [
        {
          "output_type": "execute_result",
          "data": {
            "text/plain": [
              "-171876.16"
            ]
          },
          "metadata": {},
          "execution_count": 73
        }
      ]
    },
    {
      "cell_type": "markdown",
      "source": [
        "**Impôts sur les résultats**"
      ],
      "metadata": {
        "id": "ko-UV1Wu8--q"
      }
    },
    {
      "cell_type": "code",
      "source": [
        "rbf=(rai+r1+r2+reprise)*0.255\n",
        "rbf"
      ],
      "metadata": {
        "colab": {
          "base_uri": "https://localhost:8080/"
        },
        "id": "ZnKpJuxv8dSN",
        "outputId": "494d8bc5-56a3-49e9-b9d1-9466e1400fa7"
      },
      "execution_count": 74,
      "outputs": [
        {
          "output_type": "execute_result",
          "data": {
            "text/plain": [
              "1845485.1355500056"
            ]
          },
          "metadata": {},
          "execution_count": 74
        }
      ]
    },
    {
      "cell_type": "markdown",
      "source": [
        "**Résultat net**"
      ],
      "metadata": {
        "id": "AqiIrQCF-83I"
      }
    },
    {
      "cell_type": "code",
      "source": [
        "rn=rai-rbf\n",
        "rn"
      ],
      "metadata": {
        "colab": {
          "base_uri": "https://localhost:8080/"
        },
        "id": "U_zpvwNQ97Lk",
        "outputId": "f44362d8-b6aa-4015-e7a5-93915d59fbff"
      },
      "execution_count": 75,
      "outputs": [
        {
          "output_type": "execute_result",
          "data": {
            "text/plain": [
              "5091084.204450017"
            ]
          },
          "metadata": {},
          "execution_count": 75
        }
      ]
    },
    {
      "cell_type": "markdown",
      "source": [
        "**Analyse des comptes de produits**"
      ],
      "metadata": {
        "id": "BvFXSTXH8V2C"
      }
    },
    {
      "cell_type": "code",
      "source": [
        "df['date'] = pd.to_datetime(df['date'], format='%d/%m/%Y')\n",
        "df['mois']=df['date'].dt.month\n",
        "df['date'] = df['date'].dt.date"
      ],
      "metadata": {
        "id": "_X-yDUuk-xvs"
      },
      "execution_count": 76,
      "outputs": []
    },
    {
      "cell_type": "code",
      "source": [
        "df['mnt']=-df['mnt']"
      ],
      "metadata": {
        "id": "vVdYJM2WnZVV"
      },
      "execution_count": 77,
      "outputs": []
    },
    {
      "cell_type": "code",
      "source": [
        "sce=['71243200','71243500']"
      ],
      "metadata": {
        "id": "8HMcnzTU-ltS"
      },
      "execution_count": 78,
      "outputs": []
    },
    {
      "cell_type": "code",
      "source": [
        "cfo=['71243700','71243600','71243400','71243900','71243100']"
      ],
      "metadata": {
        "id": "306VcfG6KsCQ"
      },
      "execution_count": 79,
      "outputs": []
    },
    {
      "cell_type": "code",
      "source": [
        "fm=['71244000','71243800','71243300']"
      ],
      "metadata": {
        "id": "n4bFTB2dKYPt"
      },
      "execution_count": 80,
      "outputs": []
    },
    {
      "cell_type": "code",
      "source": [
        "autre=['7127200','71272300']"
      ],
      "metadata": {
        "id": "hpm73HoTk73Z"
      },
      "execution_count": 81,
      "outputs": []
    },
    {
      "cell_type": "code",
      "source": [
        "tout=sce+cfo+fm+autre"
      ],
      "metadata": {
        "id": "M_qQRgVdVO5_"
      },
      "execution_count": 82,
      "outputs": []
    },
    {
      "cell_type": "code",
      "source": [
        "clns=['cpt','libelle_cpt','convention','mois','date','facture','libelle_fac','mnt']\n",
        "clns_tri=['convention','mois']"
      ],
      "metadata": {
        "id": "C7_7sRvBY65o"
      },
      "execution_count": 83,
      "outputs": []
    },
    {
      "cell_type": "code",
      "source": [
        "prdts_sce=df[(df.cpt.isin(sce))][clns].sort_values(by=clns_tri)\n",
        "prdts_sce.to_excel('/'.join([folder_path,\"produits_sce.xlsx\"]))"
      ],
      "metadata": {
        "id": "c-tzWfma-0Xx"
      },
      "execution_count": 84,
      "outputs": []
    },
    {
      "cell_type": "code",
      "source": [
        "prdts_cfo=df[(df.cpt.isin(cfo))][clns].sort_values(by=clns_tri)\n",
        "prdts_cfo.to_excel('/'.join([folder_path,\"produits_cfo.xlsx\"]))"
      ],
      "metadata": {
        "id": "EMUIPLnt-8q5"
      },
      "execution_count": 85,
      "outputs": []
    },
    {
      "cell_type": "code",
      "source": [
        "prdts_fm=df[(df.cpt.isin(fm))][clns].sort_values(by=clns_tri)\n",
        "prdts_fm.to_excel('/'.join([folder_path,\"produits_fm.xlsx\"]))"
      ],
      "metadata": {
        "id": "WBqrIhgxLuCz"
      },
      "execution_count": 86,
      "outputs": []
    },
    {
      "cell_type": "code",
      "source": [
        "prdts_tout=df[(df.cpt.isin(tout))][clns].sort_values(by=clns_tri)\n",
        "prdts_tout.to_excel('/'.join([folder_path,\"produits_tout.xlsx\"]))"
      ],
      "metadata": {
        "id": "GRjBH_3IVg-m"
      },
      "execution_count": 87,
      "outputs": []
    },
    {
      "cell_type": "code",
      "source": [
        "prdts_autre=df[(df.cpt.isin(autre))][clns].sort_values(by=clns_tri)\n",
        "prdts_autre.to_excel('/'.join([folder_path,\"produits_autre.xlsx\"]))"
      ],
      "metadata": {
        "id": "Og14yYjnlLJj"
      },
      "execution_count": 88,
      "outputs": []
    },
    {
      "cell_type": "code",
      "source": [],
      "metadata": {
        "id": "vzM9gOhzYcLg"
      },
      "execution_count": 88,
      "outputs": []
    }
  ]
}